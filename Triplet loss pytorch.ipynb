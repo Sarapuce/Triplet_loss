{
 "cells": [
  {
   "cell_type": "code",
   "execution_count": 1,
   "metadata": {},
   "outputs": [],
   "source": [
    "import os, cv2\n",
    "import torch\n",
    "import torchvision\n",
    "import seaborn as sns\n",
    "import numpy as np\n",
    "import matplotlib.pyplot as plt\n",
    "import matplotlib.patheffects as PathEffects\n",
    "import torch.nn.functional as F\n",
    "import torch.utils.data as utils\n",
    "\n",
    "from sklearn.metrics import confusion_matrix\n",
    "from tqdm import tqdm_notebook as tqdm\n",
    "from copy import deepcopy\n",
    "from time import time\n",
    "from mpl_toolkits import mplot3d\n",
    "from torchvision import datasets, transforms\n",
    "from torch import nn, optim\n",
    "from torch import autograd"
   ]
  },
  {
   "cell_type": "code",
   "execution_count": 2,
   "metadata": {},
   "outputs": [],
   "source": [
    "epoch = 6"
   ]
  },
  {
   "cell_type": "code",
   "execution_count": 3,
   "metadata": {},
   "outputs": [],
   "source": [
    "transform = transforms.Compose([transforms.ToTensor(),\n",
    "                              transforms.Normalize((0.5,), (0.5,)),\n",
    "                              ])"
   ]
  },
  {
   "cell_type": "code",
   "execution_count": 4,
   "metadata": {},
   "outputs": [],
   "source": [
    "train_set = datasets.MNIST('./data/train/', \n",
    "                           download  = True, \n",
    "                           train     = True, \n",
    "                           transform = transform)"
   ]
  },
  {
   "cell_type": "code",
   "execution_count": 5,
   "metadata": {},
   "outputs": [],
   "source": [
    "test_set = datasets.MNIST('./data/test/', \n",
    "                          download  = True, \n",
    "                          train     = False, \n",
    "                          transform = transform)"
   ]
  },
  {
   "cell_type": "code",
   "execution_count": 6,
   "metadata": {},
   "outputs": [
    {
     "data": {
      "application/vnd.jupyter.widget-view+json": {
       "model_id": "330d72a5ce0344d492ccc6740b3242e0",
       "version_major": 2,
       "version_minor": 0
      },
      "text/plain": [
       "HBox(children=(IntProgress(value=0, max=60000), HTML(value='')))"
      ]
     },
     "metadata": {},
     "output_type": "display_data"
    },
    {
     "name": "stdout",
     "output_type": "stream",
     "text": [
      "\n"
     ]
    }
   ],
   "source": [
    "boucle = [6, 9, 0, 8]\n",
    "x_boucle = []\n",
    "y_boucle = []\n",
    "for x, y in tqdm(train_set):\n",
    "        if y != 8 and y != 2:\n",
    "            x_boucle.append(x)\n",
    "            y_boucle.append(y in boucle)\n",
    "            \n",
    "x_boucle = torch.stack(x_boucle).float()\n",
    "y_boucle = torch.tensor(y_boucle).long()"
   ]
  },
  {
   "cell_type": "code",
   "execution_count": 7,
   "metadata": {},
   "outputs": [
    {
     "data": {
      "application/vnd.jupyter.widget-view+json": {
       "model_id": "dd48030a148e4b4082100be30c90544a",
       "version_major": 2,
       "version_minor": 0
      },
      "text/plain": [
       "HBox(children=(IntProgress(value=0, max=10000), HTML(value='')))"
      ]
     },
     "metadata": {},
     "output_type": "display_data"
    },
    {
     "name": "stdout",
     "output_type": "stream",
     "text": [
      "\n"
     ]
    }
   ],
   "source": [
    "x_boucle_test = []\n",
    "y_boucle_test = []\n",
    "for x, y in tqdm(test_set):\n",
    "        if y != 2:\n",
    "            x_boucle_test.append(x)\n",
    "            y_boucle_test.append(y in boucle)\n",
    "            \n",
    "x_boucle_test = torch.stack(x_boucle_test).float()\n",
    "y_boucle_test = torch.tensor(y_boucle_test).long()"
   ]
  },
  {
   "cell_type": "code",
   "execution_count": 31,
   "metadata": {},
   "outputs": [
    {
     "data": {
      "application/vnd.jupyter.widget-view+json": {
       "model_id": "c26b4a8f55574c2f933db228a8af05d9",
       "version_major": 2,
       "version_minor": 0
      },
      "text/plain": [
       "HBox(children=(IntProgress(value=0, max=60000), HTML(value='')))"
      ]
     },
     "metadata": {},
     "output_type": "display_data"
    },
    {
     "name": "stdout",
     "output_type": "stream",
     "text": [
      "\n"
     ]
    }
   ],
   "source": [
    "x_train_0 = []\n",
    "y_train_0 = []\n",
    "for x, y in tqdm(train_set):\n",
    "        if y != 8 and y != 2:\n",
    "            x_train_0.append(x)\n",
    "            y_train_0.append(y)\n",
    "            \n",
    "x_train_0 = torch.stack(x_train_0).float()\n",
    "y_train_0 = torch.tensor(y_train_0).long()"
   ]
  },
  {
   "cell_type": "code",
   "execution_count": 32,
   "metadata": {},
   "outputs": [],
   "source": [
    "boucle_set = utils.TensorDataset(x_boucle, y_boucle)\n",
    "boucle_set_test = utils.TensorDataset(x_boucle_test, y_boucle_test)\n",
    "train_set_0 = utils.TensorDataset(x_train_0, y_train_0)"
   ]
  },
  {
   "cell_type": "code",
   "execution_count": 33,
   "metadata": {},
   "outputs": [],
   "source": [
    "train_loader  = torch.utils.data.DataLoader(train_set, batch_size=32, shuffle=True)\n",
    "test_loader   = torch.utils.data.DataLoader(test_set, batch_size=32, shuffle=True)\n",
    "boucle_loader = torch.utils.data.DataLoader(boucle_set, batch_size=32, shuffle=True)\n",
    "boucle_test_loader = torch.utils.data.DataLoader(boucle_set_test, batch_size=32, shuffle=True)\n",
    "train_0_loader = torch.utils.data.DataLoader(train_set_0, batch_size=32, shuffle=True)"
   ]
  },
  {
   "cell_type": "code",
   "execution_count": 10,
   "metadata": {},
   "outputs": [],
   "source": [
    "class Embedding(nn.Module):\n",
    "    def __init__(self):\n",
    "        super(Embedding, self).__init__()\n",
    "        self.conv1 = nn.Conv2d(1, 8, 3)\n",
    "        self.conv2 = nn.Conv2d(8, 16, 3)\n",
    "        self.fc1 = nn.Linear(400, 64)\n",
    "        self.fc2 = nn.Linear(64, 3)\n",
    "        \n",
    "    def forward(self, x):\n",
    "        x = F.relu(self.conv1(x))\n",
    "        x = F.max_pool2d(x, 2, 2)\n",
    "        x = F.relu(self.conv2(x))\n",
    "        x = F.max_pool2d(x, 2, 2)\n",
    "        x = x.view(-1, 400)\n",
    "        x = F.relu(self.fc1(x))\n",
    "        x = self.fc2(x)\n",
    "        x = F.normalize(x)\n",
    "        return x"
   ]
  },
  {
   "cell_type": "code",
   "execution_count": 11,
   "metadata": {},
   "outputs": [],
   "source": [
    "class Net(nn.Module):\n",
    "    def __init__(self, embedding):\n",
    "        super(Net, self).__init__()\n",
    "        self.embedding = embedding\n",
    "        self.fc1       = nn.Linear(3, 2)\n",
    "    \n",
    "    def forward(self, x):\n",
    "        x = self.embedding(x)\n",
    "        x = self.fc1(x)\n",
    "        return F.log_softmax(x, dim=1)"
   ]
  },
  {
   "cell_type": "code",
   "execution_count": 12,
   "metadata": {},
   "outputs": [],
   "source": [
    "def get_distance(data):\n",
    "    dot_product = torch.matmul(data, data.transpose(1, 0))\n",
    "    diag        = torch.diag(dot_product)\n",
    "    distances   = diag.view((1, diag.shape[0])) - 2*dot_product + diag.view((diag.shape[0], 1))\n",
    "    distances   = torch.max(distances, torch.tensor([0]).float())\n",
    "    mask        = torch.eq(distances, torch.zeros(1)).float()\n",
    "    distances   = distances + mask * 1e-16\n",
    "    distances   = torch.sqrt(distances)\n",
    "    distances   = distances * (1.0 - mask)\n",
    "    return distances"
   ]
  },
  {
   "cell_type": "code",
   "execution_count": 13,
   "metadata": {},
   "outputs": [],
   "source": [
    "def get_mask_triplet(labels):\n",
    "    hot = F.one_hot(labels)\n",
    "    positive_mask = torch.matmul(hot, hot.transpose(0, 1))\n",
    "    size = positive_mask.shape[0]\n",
    "    positive_mask[range(size), range(size)] = torch.zeros(positive_mask.shape[0]).long()\n",
    "    negative_mask = torch.matmul(torch.ones(hot.shape).long() - hot, hot.transpose(0, 1))\n",
    "    mask = torch.matmul(positive_mask.view((size, size, 1)), negative_mask.view((size, 1, size)))\n",
    "    return mask"
   ]
  },
  {
   "cell_type": "code",
   "execution_count": 14,
   "metadata": {},
   "outputs": [],
   "source": [
    "def triplet_loss(data, labels, m):\n",
    "    distances = get_distance(data)\n",
    "    size = distances.shape[0]\n",
    "    delta_p   = distances.view((size, size, 1)).repeat((1, 1, size)) + m\n",
    "    delta_n   = distances.view((size, 1, size)).repeat((1, size, 1))\n",
    "    triplet_loss = delta_p - delta_n\n",
    "    mask_hard = torch.gt(delta_p, delta_n).float()\n",
    "    mask      = get_mask_triplet(labels).float() * mask_hard\n",
    "    triplet_loss = triplet_loss * mask\n",
    "    triplet_loss = torch.max(triplet_loss, torch.zeros(1).float())\n",
    "    \n",
    "    nb_of_tensor = torch.gt(triplet_loss, torch.tensor([1e-16]).float())\n",
    "    nb_of_tensor = torch.sum(nb_of_tensor)\n",
    "    triplet_loss = torch.sum(triplet_loss)\n",
    "    return triplet_loss / (nb_of_tensor + torch.tensor([1e-16]).float())"
   ]
  },
  {
   "cell_type": "code",
   "execution_count": 15,
   "metadata": {},
   "outputs": [],
   "source": [
    "def ratio_loss(data, labels, m):\n",
    "    distances = get_distance(data)\n",
    "    size = distances.shape[0]\n",
    "    delta_p = distances.view((size, size, 1)).repeat((1, 1, size))\n",
    "    delta_n = distances.view((size, 1, size)).repeat((1, size, 1))\n",
    "    \n",
    "    den  = torch.exp(delta_p) + torch.exp(delta_n)\n",
    "    loss = torch.pow(delta_p / den, 2) + torch.pow((torch.tensor([1]).float() - (delta_n / den)), 2)\n",
    "    \n",
    "    mask_hard = torch.gt(delta_p + m, delta_n).float()\n",
    "    mask      = get_mask_triplet(labels).float() * mask_hard\n",
    "    loss      = loss * mask\n",
    "    \n",
    "    nb_of_tensor = torch.gt(loss, torch.tensor([1e-16]).float())\n",
    "    nb_of_tensor = torch.sum(nb_of_tensor)\n",
    "    loss = torch.sum(loss)\n",
    "    return loss / (nb_of_tensor + torch.tensor([1e-16]).float())"
   ]
  },
  {
   "cell_type": "code",
   "execution_count": 16,
   "metadata": {},
   "outputs": [],
   "source": [
    "def visual(x, y):\n",
    "    palette = np.array(sns.color_palette(\"hls\", 10))\n",
    "    fig = plt.figure(figsize=(12, 11))\n",
    "    ax = fig.add_subplot(1, 1, 1, projection='3d')\n",
    "    ax.scatter3D(x[:,0], x[:,1], x[:,2], lw=0, s=40,\n",
    "                      c=palette[y.astype(np.int)]);\n",
    "    ax.set_xlim(-1.5, 1.5)\n",
    "    ax.set_ylim(-1.5, 1.5)\n",
    "    ax.set_zlim(-1.5, 1.5)\n",
    "    return fig"
   ]
  },
  {
   "cell_type": "code",
   "execution_count": 17,
   "metadata": {},
   "outputs": [],
   "source": [
    "def bivisual(x, y):\n",
    "    palette = np.array(sns.color_palette(\"hls\", 10))\n",
    "    fig = plt.figure(figsize=(15, 6.5))\n",
    "    ax = fig.add_subplot(1, 2, 1, projection='3d')\n",
    "    ax.scatter3D(x[:,0], x[:,1], x[:,2], lw=0, s=40,\n",
    "                      c=palette[y.astype(np.int)]);\n",
    "    ax.set_xlim(-1.5, 1.5)\n",
    "    ax.set_ylim(-1.5, 1.5)\n",
    "    ax.set_zlim(-1.5, 1.5)\n",
    "    \n",
    "    ax = fig.add_subplot(1, 2, 2, projection='3d')\n",
    "    ax.scatter3D(x[:,0], x[:,1], x[:,2], lw=0, s=40,\n",
    "                      c=palette[np.isin(y, boucle).astype(np.int)]);\n",
    "    ax.set_xlim(-1.5, 1.5)\n",
    "    ax.set_ylim(-1.5, 1.5)\n",
    "    ax.set_zlim(-1.5, 1.5)\n",
    "    return fig"
   ]
  },
  {
   "cell_type": "code",
   "execution_count": 18,
   "metadata": {},
   "outputs": [],
   "source": [
    "def callback(net):\n",
    "    data_movie, labels_movie = [], []\n",
    "    for data, labels in test_loader:\n",
    "        for i in net(data):\n",
    "            data_movie.append(i.detach().numpy())\n",
    "        for i in labels:\n",
    "            labels_movie.append(i.detach().numpy())\n",
    "        if len(data_movie) >= 500:\n",
    "            break\n",
    "    data_movie = np.array(data_movie)\n",
    "    labels_movie = np.array(labels_movie)\n",
    "    return data_movie, labels_movie"
   ]
  },
  {
   "cell_type": "code",
   "execution_count": 19,
   "metadata": {},
   "outputs": [],
   "source": [
    "def make_movie(name, output):\n",
    "    last_frame = max([int(i[len(name):-4]) for i in os.listdir('./movie') if (i.endswith('.png') and i.startswith(name))])\n",
    "    frames = []\n",
    "    for i in range(last_frame):\n",
    "        frames.append(cv2.imread('./movie/{}{}.png'.format(name, i)))\n",
    "        \n",
    "    size = (frames[0].shape[1], frames[0].shape[0])\n",
    "    fourcc = cv2.VideoWriter_fourcc(*'MP42')\n",
    "    video = cv2.VideoWriter(output, fourcc, float(10), size)\n",
    "    for frame in frames:\n",
    "        video.write(frame)\n",
    "    video.release()"
   ]
  },
  {
   "cell_type": "code",
   "execution_count": 20,
   "metadata": {},
   "outputs": [],
   "source": [
    "def smooth(scalars, weight):\n",
    "    last = scalars[0]\n",
    "    smoothed = list()\n",
    "    for point in scalars:\n",
    "        smoothed_val = last * weight + (1 - weight) * point\n",
    "        smoothed.append(smoothed_val)\n",
    "        last = smoothed_val\n",
    "\n",
    "    return smoothed"
   ]
  },
  {
   "cell_type": "code",
   "execution_count": 21,
   "metadata": {},
   "outputs": [],
   "source": [
    "net = Embedding()\n",
    "optimizer = optim.Adam(net.parameters(), lr=0.009)"
   ]
  },
  {
   "cell_type": "code",
   "execution_count": null,
   "metadata": {},
   "outputs": [],
   "source": [
    "best_loss = 10\n",
    "test_loss_ = []\n",
    "running_loss_ = []\n",
    "for e in range(2):\n",
    "    running_loss = 0\n",
    "    i = 0\n",
    "    for data, labels in boucle_loader:\n",
    "        with autograd.detect_anomaly():\n",
    "            optimizer.zero_grad()\n",
    "            out  = net(data)\n",
    "            loss = triplet_loss(out, labels, torch.tensor([0.8]).float())\n",
    "            loss.backward()\n",
    "            optimizer.step()\n",
    "            running_loss += loss.item()\n",
    "            \n",
    "        if not i % 30:\n",
    "            test_loss = 0\n",
    "            for data, labels in test_loader:\n",
    "                out  = net(data)\n",
    "                loss = triplet_loss(out, labels, torch.tensor([0.8]).float())\n",
    "                test_loss += loss.item()\n",
    "            test_loss /= len(test_loader)\n",
    "\n",
    "            fig = visual(*callback(net))\n",
    "            fig.savefig('./movie/first_step{}.png'.format(i//30))\n",
    "            plt.close(fig)\n",
    "            \n",
    "            test_loss_.append(test_loss)\n",
    "            if i != 0:\n",
    "                running_loss_.append(running_loss / ((i * 32) % len(train_loader)))\n",
    "        i += 1\n",
    "\n",
    "    else:\n",
    "        for data, labels in test_loader:\n",
    "            out  = net(data)\n",
    "            loss = triplet_loss(out, labels, torch.tensor([0.8]).float())\n",
    "            test_loss += loss.item()\n",
    "        test_loss /= len(test_loader)\n",
    "\n",
    "        if test_loss < best_loss:\n",
    "            best_model = deepcopy(net)\n",
    "            best_loss = test_loss\n",
    "\n",
    "        print(\"Epoch {} - Training loss: {:.4f} - Test loss: {:.4f}\".format(e, running_loss/len(train_loader), test_loss))"
   ]
  },
  {
   "cell_type": "code",
   "execution_count": null,
   "metadata": {},
   "outputs": [],
   "source": [
    "plt.plot(test_loss_)\n",
    "plt.plot(running_loss_)\n",
    "plt.savefig('/curves/first_step.png')"
   ]
  },
  {
   "cell_type": "code",
   "execution_count": 27,
   "metadata": {},
   "outputs": [],
   "source": [
    "optimizer = optim.Adam(net.parameters(), lr=0.009)"
   ]
  },
  {
   "cell_type": "code",
   "execution_count": 24,
   "metadata": {},
   "outputs": [],
   "source": [
    "make_movie('first_step', './first.avi')"
   ]
  },
  {
   "cell_type": "code",
   "execution_count": null,
   "metadata": {},
   "outputs": [],
   "source": [
    "best_loss = 10\n",
    "test_loss_, running_loss_ = [], []\n",
    "for e in range(10):\n",
    "    running_loss = 0\n",
    "    i = 0\n",
    "    for data, labels in train_0_loader:\n",
    "        with autograd.detect_anomaly():\n",
    "            optimizer.zero_grad()\n",
    "            out  = net(data)\n",
    "            loss = ratio_loss(out, labels, torch.tensor([0.8]).float())\n",
    "            loss.backward()\n",
    "            optimizer.step()\n",
    "            running_loss += loss.item()\n",
    "        \n",
    "        if not i % 30:\n",
    "            test_loss = 0\n",
    "            for data, labels in test_loader:\n",
    "                out  = net(data)\n",
    "                loss = ratio_loss(out, labels, torch.tensor([0.8]).float())\n",
    "                test_loss += loss.item()\n",
    "            test_loss /= len(test_loader)\n",
    "\n",
    "            if test_loss < best_loss:\n",
    "                best_model = deepcopy(net)\n",
    "                best_loss = test_loss\n",
    "\n",
    "            fig = visual(*callback(net))\n",
    "            fig.savefig('./movie/{}.png'.format(i//30))\n",
    "            plt.close(fig)\n",
    "            \n",
    "            test_loss_.append(test_loss)\n",
    "            if i != 0:\n",
    "                running_loss_.append(running_loss / ((i * 32) % len(train_loader)))\n",
    "        i += 1   \n",
    "        \n",
    "    else:\n",
    "        print(\"Epoch {} - Training loss: {:.4f} - Test loss: {:.4f}\".format(e, running_loss/len(train_loader), test_loss))"
   ]
  },
  {
   "cell_type": "code",
   "execution_count": null,
   "metadata": {},
   "outputs": [],
   "source": [
    "plt.plot(test_loss_)\n",
    "plt.plot(running_loss_)\n",
    "plt.savefig('/curves/final.png')"
   ]
  },
  {
   "cell_type": "code",
   "execution_count": 29,
   "metadata": {},
   "outputs": [
    {
     "data": {
      "image/png": "[encoded data removed]",
      "text/plain": [
       "<Figure size 1080x468 with 2 Axes>"
      ]
     },
     "metadata": {
      "needs_background": "light"
     },
     "output_type": "display_data"
    }
   ],
   "source": [
    "fig = bivisual(*callback(best_model))"
   ]
  },
  {
   "cell_type": "code",
   "execution_count": 94,
   "metadata": {},
   "outputs": [],
   "source": [
    "make_movie('first_step', './firest_step.avi')\n",
    "make_movie('', 'movie.avi')"
   ]
  },
  {
   "cell_type": "code",
   "execution_count": 67,
   "metadata": {},
   "outputs": [],
   "source": [
    "torch.save(best_model.state_dict(), './saved_models/embedding{}'.format(time()))"
   ]
  },
  {
   "cell_type": "code",
   "execution_count": 68,
   "metadata": {},
   "outputs": [],
   "source": [
    "best_model.eval()\n",
    "for param in best_model.parameters():\n",
    "    param.requires_grad = False"
   ]
  },
  {
   "cell_type": "code",
   "execution_count": 69,
   "metadata": {},
   "outputs": [],
   "source": [
    "net = Net(best_model)"
   ]
  },
  {
   "cell_type": "code",
   "execution_count": 70,
   "metadata": {},
   "outputs": [],
   "source": [
    "epoch = 10\n",
    "loss_fun = nn.NLLLoss()\n",
    "optimizer = optim.Adam(net.parameters())"
   ]
  },
  {
   "cell_type": "code",
   "execution_count": 71,
   "metadata": {},
   "outputs": [
    {
     "name": "stdout",
     "output_type": "stream",
     "text": [
      "Epoch 0 - Training loss: 0.2916 - Test loss: 0.1968\n",
      "Epoch 1 - Training loss: 0.0943 - Test loss: 0.1052\n",
      "Epoch 2 - Training loss: 0.0488 - Test loss: 0.0734\n",
      "Epoch 3 - Training loss: 0.0325 - Test loss: 0.0603\n",
      "Epoch 4 - Training loss: 0.0259 - Test loss: 0.0565\n",
      "Epoch 5 - Training loss: 0.0234 - Test loss: 0.0557\n",
      "Epoch 6 - Training loss: 0.0225 - Test loss: 0.0548\n",
      "Epoch 7 - Training loss: 0.0222 - Test loss: 0.0557\n",
      "Epoch 8 - Training loss: 0.0220 - Test loss: 0.0567\n",
      "Epoch 9 - Training loss: 0.0220 - Test loss: 0.0570\n"
     ]
    }
   ],
   "source": [
    "for e in range(epoch):\n",
    "    running_loss = 0\n",
    "    test_loss    = 0\n",
    "    best_loss    = 10\n",
    "    for data, labels in boucle_loader:\n",
    "        with autograd.detect_anomaly():\n",
    "            optimizer.zero_grad()\n",
    "            out  = net(data)\n",
    "            loss = loss_fun(out, labels)\n",
    "            loss.backward()\n",
    "            optimizer.step()\n",
    "            running_loss += loss.item()\n",
    "    else:\n",
    "        for data, labels in boucle_test_loader:\n",
    "            out  = net(data)\n",
    "            loss = loss_fun(out, labels)\n",
    "            test_loss += loss.item()\n",
    "        test_loss /= len(test_loader)\n",
    "        \n",
    "        if test_loss < best_loss:\n",
    "            best_model = deepcopy(net)\n",
    "            best_loss = test_loss\n",
    "        \n",
    "        print(\"Epoch {} - Training loss: {:.4f} - Test loss: {:.4f}\".format(e, running_loss/len(train_loader), test_loss))"
   ]
  },
  {
   "cell_type": "code",
   "execution_count": 72,
   "metadata": {},
   "outputs": [
    {
     "name": "stdout",
     "output_type": "stream",
     "text": [
      "0.8861821086261981\n"
     ]
    }
   ],
   "source": [
    "y_pred = torch.tensor([]).long()\n",
    "good = 0\n",
    "for img, labels in boucle_test_loader:\n",
    "    res = torch.exp(net(img))\n",
    "    predict = torch.sum(torch.eq(torch.argmax(res, dim=1), labels), dim = 0)\n",
    "    good += predict.item()\n",
    "good /= (len(test_loader)*32)\n",
    "print(good)"
   ]
  },
  {
   "cell_type": "code",
   "execution_count": 73,
   "metadata": {},
   "outputs": [],
   "source": [
    "y_pred = np.array([])\n",
    "y_true = np.array([])\n",
    "for img, labels in test_loader:\n",
    "    res    = torch.exp(net(img))\n",
    "    res    = torch.argmax(res, dim=1)\n",
    "    res    = res.detach().numpy()\n",
    "    labels = labels.detach().numpy()\n",
    "    y_pred = np.concatenate([y_pred, res])\n",
    "    y_true = np.concatenate([y_true, labels])"
   ]
  },
  {
   "cell_type": "code",
   "execution_count": 74,
   "metadata": {},
   "outputs": [],
   "source": [
    "matrix = confusion_matrix(y_true,\n",
    "                          y_pred,\n",
    "                          labels = [i for i in range(10)])"
   ]
  },
  {
   "cell_type": "code",
   "execution_count": 75,
   "metadata": {},
   "outputs": [
    {
     "data": {
      "text/plain": [
       "array([[   4,  976],\n",
       "       [1132,    3],\n",
       "       [ 862,  170],\n",
       "       [1010,    0],\n",
       "       [ 973,    9],\n",
       "       [ 888,    4],\n",
       "       [   8,  950],\n",
       "       [1024,    4],\n",
       "       [  30,  944],\n",
       "       [  30,  979]], dtype=int64)"
      ]
     },
     "execution_count": 75,
     "metadata": {},
     "output_type": "execute_result"
    }
   ],
   "source": [
    "matrix[:, :2]"
   ]
  },
  {
   "cell_type": "code",
   "execution_count": null,
   "metadata": {},
   "outputs": [],
   "source": []
  }
 ],
 "metadata": {
  "kernelspec": {
   "display_name": "Python 3",
   "language": "python",
   "name": "python3"
  },
  "language_info": {
   "codemirror_mode": {
    "name": "ipython",
    "version": 3
   },
   "file_extension": ".py",
   "mimetype": "text/x-python",
   "name": "python",
   "nbconvert_exporter": "python",
   "pygments_lexer": "ipython3",
   "version": "3.7.3"
  }
 },
 "nbformat": 4,
 "nbformat_minor": 4
}
