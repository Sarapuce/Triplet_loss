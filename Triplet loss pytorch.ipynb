{
 "cells": [
  {
   "cell_type": "code",
   "execution_count": 127,
   "metadata": {},
   "outputs": [],
   "source": [
    "import os, cv2\n",
    "import torch\n",
    "import torchvision\n",
    "import seaborn as sns\n",
    "import numpy as np\n",
    "import matplotlib.pyplot as plt\n",
    "import matplotlib.patheffects as PathEffects\n",
    "import torch.nn.functional as F\n",
    "import torch.utils.data as utils\n",
    "\n",
    "from sklearn.metrics import confusion_matrix\n",
    "from tqdm import tqdm_notebook as tqdm\n",
    "from copy import deepcopy\n",
    "from time import time\n",
    "from mpl_toolkits import mplot3d\n",
    "from torchvision import datasets, transforms\n",
    "from torch import nn, optim\n",
    "from torch import autograd"
   ]
  },
  {
   "cell_type": "code",
   "execution_count": 2,
   "metadata": {},
   "outputs": [],
   "source": [
    "epoch = 3"
   ]
  },
  {
   "cell_type": "code",
   "execution_count": 3,
   "metadata": {},
   "outputs": [],
   "source": [
    "transform = transforms.Compose([transforms.ToTensor(),\n",
    "                              transforms.Normalize((0.5,), (0.5,)),\n",
    "                              ])"
   ]
  },
  {
   "cell_type": "code",
   "execution_count": 4,
   "metadata": {},
   "outputs": [],
   "source": [
    "train_set = datasets.MNIST('./data/train/', \n",
    "                           download  = True, \n",
    "                           train     = True, \n",
    "                           transform = transform)"
   ]
  },
  {
   "cell_type": "code",
   "execution_count": 5,
   "metadata": {},
   "outputs": [],
   "source": [
    "test_set = datasets.MNIST('./data/test/', \n",
    "                          download  = True, \n",
    "                          train     = False, \n",
    "                          transform = transform)"
   ]
  },
  {
   "cell_type": "code",
   "execution_count": 81,
   "metadata": {},
   "outputs": [
    {
     "data": {
      "application/vnd.jupyter.widget-view+json": {
       "model_id": "58f1cbe1ec5a4d78a19162db96c2dec5",
       "version_major": 2,
       "version_minor": 0
      },
      "text/plain": [
       "HBox(children=(IntProgress(value=0, max=60000), HTML(value='')))"
      ]
     },
     "metadata": {},
     "output_type": "display_data"
    }
   ],
   "source": [
    "boucle = [6, 9, 0, 8]\n",
    "x_boucle = []\n",
    "y_boucle = []\n",
    "for x, y in tqdm(train_set):\n",
    "        if y != 8 and y != 2:\n",
    "            x_boucle.append(x)\n",
    "            y_boucle.append(y in boucle)\n",
    "            \n",
    "x_boucle = torch.stack(x_boucle).float()\n",
    "y_boucle = torch.tensor(y_boucle).long()"
   ]
  },
  {
   "cell_type": "code",
   "execution_count": 100,
   "metadata": {},
   "outputs": [
    {
     "data": {
      "application/vnd.jupyter.widget-view+json": {
       "model_id": "ccde679dac7342579fda926352d1d07e",
       "version_major": 2,
       "version_minor": 0
      },
      "text/plain": [
       "HBox(children=(IntProgress(value=0, max=10000), HTML(value='')))"
      ]
     },
     "metadata": {},
     "output_type": "display_data"
    }
   ],
   "source": [
    "x_boucle_test = []\n",
    "y_boucle_test = []\n",
    "for x, y in tqdm(test_set):\n",
    "        if y != 2:\n",
    "            x_boucle_test.append(x)\n",
    "            y_boucle_test.append(y in boucle)\n",
    "            \n",
    "x_boucle_test = torch.stack(x_boucle_test).float()\n",
    "y_boucle_test = torch.tensor(y_boucle_test).long()"
   ]
  },
  {
   "cell_type": "code",
   "execution_count": 101,
   "metadata": {},
   "outputs": [],
   "source": [
    "boucle_set = utils.TensorDataset(x_boucle, y_boucle)\n",
    "boucle_set_test = utils.TensorDataset(x_boucle_test, y_boucle_test)"
   ]
  },
  {
   "cell_type": "code",
   "execution_count": 102,
   "metadata": {},
   "outputs": [],
   "source": [
    "train_loader  = torch.utils.data.DataLoader(train_set, batch_size=32, shuffle=True)\n",
    "test_loader   = torch.utils.data.DataLoader(test_set, batch_size=32, shuffle=True)\n",
    "boucle_loader = torch.utils.data.DataLoader(boucle_set, batch_size=32, shuffle=True)\n",
    "boucle_test_loader = torch.utils.data.DataLoader(boucle_set_test, batch_size=32, shuffle=True)"
   ]
  },
  {
   "cell_type": "code",
   "execution_count": 7,
   "metadata": {},
   "outputs": [],
   "source": [
    "class Embedding(nn.Module):\n",
    "    def __init__(self):\n",
    "        super(Embedding, self).__init__()\n",
    "        self.conv1 = nn.Conv2d(1, 8, 3)\n",
    "        self.conv2 = nn.Conv2d(8, 16, 3)\n",
    "        self.fc1 = nn.Linear(400, 64)\n",
    "        self.fc2 = nn.Linear(64, 3)\n",
    "        \n",
    "    def forward(self, x):\n",
    "        x = F.relu(self.conv1(x))\n",
    "        x = F.max_pool2d(x, 2, 2)\n",
    "        x = F.relu(self.conv2(x))\n",
    "        x = F.max_pool2d(x, 2, 2)\n",
    "        x = x.view(-1, 400)\n",
    "        x = F.relu(self.fc1(x))\n",
    "        x = self.fc2(x)\n",
    "        x = F.normalize(x)\n",
    "        return x"
   ]
  },
  {
   "cell_type": "code",
   "execution_count": 95,
   "metadata": {},
   "outputs": [],
   "source": [
    "class Net(nn.Module):\n",
    "    def __init__(self, embedding):\n",
    "        super(Net, self).__init__()\n",
    "        self.embedding = embedding\n",
    "        self.fc1       = nn.Linear(3, 2)\n",
    "    \n",
    "    def forward(self, x):\n",
    "        x = self.embedding(x)\n",
    "        x = self.fc1(x)\n",
    "        return F.log_softmax(x, dim=1)"
   ]
  },
  {
   "cell_type": "code",
   "execution_count": 9,
   "metadata": {},
   "outputs": [],
   "source": [
    "def get_distance(data):\n",
    "    dot_product = torch.matmul(data, data.transpose(1, 0))\n",
    "    diag        = torch.diag(dot_product)\n",
    "    distances   = diag.view((1, diag.shape[0])) - 2*dot_product + diag.view((diag.shape[0], 1))\n",
    "    distances   = torch.max(distances, torch.tensor([0]).float())\n",
    "    mask        = torch.eq(distances, torch.zeros(1)).float()\n",
    "    distances   = distances + mask * 1e-16\n",
    "    distances   = torch.sqrt(distances)\n",
    "    distances   = distances * (1.0 - mask)\n",
    "    return distances"
   ]
  },
  {
   "cell_type": "code",
   "execution_count": 10,
   "metadata": {},
   "outputs": [],
   "source": [
    "def get_mask_triplet(labels):\n",
    "    hot = F.one_hot(labels)\n",
    "    positive_mask = torch.matmul(hot, hot.transpose(0, 1))\n",
    "    size = positive_mask.shape[0]\n",
    "    positive_mask[range(size), range(size)] = torch.zeros(positive_mask.shape[0]).long()\n",
    "    negative_mask = torch.matmul(torch.ones(hot.shape).long() - hot, hot.transpose(0, 1))\n",
    "    mask = torch.matmul(positive_mask.view((size, size, 1)), negative_mask.view((size, 1, size)))\n",
    "    return mask"
   ]
  },
  {
   "cell_type": "code",
   "execution_count": 11,
   "metadata": {},
   "outputs": [],
   "source": [
    "def triplet_loss(data, labels, m):\n",
    "    distances = get_distance(data)\n",
    "    size = distances.shape[0]\n",
    "    delta_p   = distances.view((size, size, 1)).repeat((1, 1, size)) + m\n",
    "    delta_n   = distances.view((size, 1, size)).repeat((1, size, 1))\n",
    "    triplet_loss = delta_p - delta_n\n",
    "    mask_hard = torch.gt(delta_p, delta_n).float()\n",
    "    mask      = get_mask_triplet(labels).float() * mask_hard\n",
    "    triplet_loss = triplet_loss * mask\n",
    "    triplet_loss = torch.max(triplet_loss, torch.zeros(1).float())\n",
    "    \n",
    "    nb_of_tensor = torch.gt(triplet_loss, torch.tensor([1e-16]).float())\n",
    "    nb_of_tensor = torch.sum(nb_of_tensor)\n",
    "    triplet_loss = torch.sum(triplet_loss)\n",
    "    return triplet_loss / (nb_of_tensor + torch.tensor([1e-16]).float())"
   ]
  },
  {
   "cell_type": "code",
   "execution_count": 18,
   "metadata": {},
   "outputs": [],
   "source": [
    "def ratio_loss(data, labels, m):\n",
    "    distances = get_distance(data)\n",
    "    size = distances.shape[0]\n",
    "    delta_p = distances.view((size, size, 1)).repeat((1, 1, size))\n",
    "    delta_n = distances.view((size, 1, size)).repeat((1, size, 1))\n",
    "    \n",
    "    den  = torch.exp(delta_p) + torch.exp(delta_n)\n",
    "    loss = torch.pow(delta_p / den, 2) + torch.pow((torch.tensor([1]).float() - (delta_n / den)), 2)\n",
    "    \n",
    "    mask_hard = torch.gt(delta_p + m, delta_n).float()\n",
    "    mask      = get_mask_triplet(labels).float() * mask_hard\n",
    "    loss      = loss * mask\n",
    "    \n",
    "    nb_of_tensor = torch.gt(loss, torch.tensor([1e-16]).float())\n",
    "    nb_of_tensor = torch.sum(nb_of_tensor)\n",
    "    loss = torch.sum(loss)\n",
    "    return loss / (nb_of_tensor + torch.tensor([1e-16]).float())"
   ]
  },
  {
   "cell_type": "code",
   "execution_count": 13,
   "metadata": {},
   "outputs": [],
   "source": [
    "def visual(x, y):\n",
    "    palette = np.array(sns.color_palette(\"hls\", 10))\n",
    "    fig = plt.figure(figsize=(12, 11))\n",
    "    ax = fig.add_subplot(1, 1, 1, projection='3d')\n",
    "    ax.scatter3D(x[:,0], x[:,1], x[:,2], lw=0, s=40,\n",
    "                      c=palette[y.astype(np.int)]);\n",
    "    ax.set_xlim(-1.5, 1.5)\n",
    "    ax.set_ylim(-1.5, 1.5)\n",
    "    ax.set_zlim(-1.5, 1.5)\n",
    "    return fig"
   ]
  },
  {
   "cell_type": "code",
   "execution_count": 14,
   "metadata": {},
   "outputs": [],
   "source": [
    "def callback(net):\n",
    "    data_movie, labels_movie = [], []\n",
    "    for data, labels in test_loader:\n",
    "        for i in net(data):\n",
    "            data_movie.append(i.detach().numpy())\n",
    "        for i in labels:\n",
    "            labels_movie.append(i.detach().numpy())\n",
    "        if len(data_movie) >= 500:\n",
    "            break\n",
    "    data_movie = np.array(data_movie)\n",
    "    labels_movie = np.array(labels_movie)\n",
    "    return data_movie, labels_movie"
   ]
  },
  {
   "cell_type": "code",
   "execution_count": 28,
   "metadata": {},
   "outputs": [],
   "source": [
    "def make_movie():\n",
    "    last_frame = max([int(i[:-4]) for i in os.listdir('./movie') if i.endswith('.png')])\n",
    "    frames = []\n",
    "    for i in range(last_frame):\n",
    "        frames.append(cv2.imread('./movie/{}.png'.format(i)))\n",
    "        \n",
    "    size = (frames[0].shape[1], frames[0].shape[0])\n",
    "    fourcc = cv2.VideoWriter_fourcc(*'MP42')\n",
    "    video = cv2.VideoWriter('./movie.avi', fourcc, float(10), size)\n",
    "    for frame in frames:\n",
    "        video.write(frame)\n",
    "    video.release()"
   ]
  },
  {
   "cell_type": "code",
   "execution_count": null,
   "metadata": {},
   "outputs": [],
   "source": [
    "def smooth(scalars, weight):\n",
    "    last = scalars[0]\n",
    "    smoothed = list()\n",
    "    for point in scalars:\n",
    "        smoothed_val = last * weight + (1 - weight) * point\n",
    "        smoothed.append(smoothed_val)\n",
    "        last = smoothed_val\n",
    "\n",
    "    return smoothed"
   ]
  },
  {
   "cell_type": "code",
   "execution_count": 87,
   "metadata": {},
   "outputs": [],
   "source": [
    "net = Embedding()\n",
    "optimizer = optim.Adam(net.parameters(), lr=0.009)"
   ]
  },
  {
   "cell_type": "code",
   "execution_count": 88,
   "metadata": {},
   "outputs": [
    {
     "name": "stdout",
     "output_type": "stream",
     "text": [
      "Epoch 0 - Training loss: 0.4427 - Test loss: 0.8720\n",
      "Epoch 1 - Training loss: 0.3167 - Test loss: 0.8646\n",
      "Epoch 2 - Training loss: 0.2918 - Test loss: 0.8289\n"
     ]
    }
   ],
   "source": [
    "for e in range(epoch):\n",
    "    running_loss = 0\n",
    "    test_loss    = 0\n",
    "    best_loss    = 10\n",
    "    i = 0\n",
    "    for data, labels in boucle_loader:\n",
    "        with autograd.detect_anomaly():\n",
    "            optimizer.zero_grad()\n",
    "            out  = net(data)\n",
    "            loss = triplet_loss(out, labels, torch.tensor([0.8]).float())\n",
    "            loss.backward()\n",
    "            optimizer.step()\n",
    "            running_loss += loss.item()\n",
    "\n",
    "    else:\n",
    "        for data, labels in test_loader:\n",
    "            out  = net(data)\n",
    "            loss = triplet_loss(out, labels, torch.tensor([0.8]).float())\n",
    "            test_loss += loss.item()\n",
    "        test_loss /= len(test_loader)\n",
    "\n",
    "        if test_loss < best_loss:\n",
    "            best_model = deepcopy(net)\n",
    "            best_loss = test_loss\n",
    "\n",
    "        fig = visual(*callback(net))\n",
    "        fig.savefig('./movie/first_step.png')\n",
    "        plt.close(fig)\n",
    "\n",
    "        print(\"Epoch {} - Training loss: {:.4f} - Test loss: {:.4f}\".format(e, running_loss/len(train_loader), test_loss))"
   ]
  },
  {
   "cell_type": "code",
   "execution_count": 90,
   "metadata": {},
   "outputs": [
    {
     "name": "stdout",
     "output_type": "stream",
     "text": [
      "Epoch 0 - Training loss: 0.4317 - Test loss: 0.3474\n",
      "Epoch 1 - Training loss: 0.3711 - Test loss: 0.3316\n",
      "Epoch 2 - Training loss: 0.3953 - Test loss: 0.3687\n"
     ]
    }
   ],
   "source": [
    "for e in range(epoch):\n",
    "    test_loss_, running_loss_ = [], []\n",
    "    running_loss = 0\n",
    "    test_loss    = 0\n",
    "    best_loss    = 10\n",
    "    i = 0\n",
    "    for data, labels in train_loader:\n",
    "        with autograd.detect_anomaly():\n",
    "            optimizer.zero_grad()\n",
    "            out  = net(data)\n",
    "            loss = triplet_loss(out, labels, torch.tensor([0.8]).float())\n",
    "            loss.backward()\n",
    "            optimizer.step()\n",
    "            running_loss += loss.item()\n",
    "        \n",
    "        if not i % 30:\n",
    "            for data, labels in test_loader:\n",
    "                out  = net(data)\n",
    "                loss = triplet_loss(out, labels, torch.tensor([0.8]).float())\n",
    "                test_loss += loss.item()\n",
    "            test_loss /= len(test_loader)\n",
    "\n",
    "            if test_loss < best_loss:\n",
    "                best_model = deepcopy(net)\n",
    "                best_loss = test_loss\n",
    "\n",
    "            fig = visual(*callback(net))\n",
    "            fig.savefig('./movie/{}.png'.format(i//30))\n",
    "            plt.close(fig)\n",
    "            \n",
    "            test_loss_.append(test_loss)\n",
    "            if i != 0:\n",
    "                running_loss_.append(running_loss / ((i * 32) % len(train_loader)))\n",
    "        i += 1   \n",
    "        \n",
    "    else:\n",
    "        print(\"Epoch {} - Training loss: {:.4f} - Test loss: {:.4f}\".format(e, running_loss/len(train_loader), test_loss))"
   ]
  },
  {
   "cell_type": "code",
   "execution_count": 91,
   "metadata": {},
   "outputs": [
    {
     "data": {
      "image/png": "[encoded data removed]",
      "text/plain": [
       "<Figure size 864x792 with 1 Axes>"
      ]
     },
     "metadata": {
      "needs_background": "light"
     },
     "output_type": "display_data"
    }
   ],
   "source": [
    "fig = visual(*callback(best_model))"
   ]
  },
  {
   "cell_type": "code",
   "execution_count": 94,
   "metadata": {},
   "outputs": [],
   "source": [
    "make_movie()"
   ]
  },
  {
   "cell_type": "code",
   "execution_count": 92,
   "metadata": {},
   "outputs": [],
   "source": [
    "torch.save(best_model.state_dict(), './saved_models/embedding{}'.format(time()))"
   ]
  },
  {
   "cell_type": "code",
   "execution_count": 96,
   "metadata": {},
   "outputs": [],
   "source": [
    "best_model.eval()\n",
    "for param in best_model.parameters():\n",
    "    param.requires_grad = False"
   ]
  },
  {
   "cell_type": "code",
   "execution_count": 97,
   "metadata": {},
   "outputs": [],
   "source": [
    "net = Net(best_model)"
   ]
  },
  {
   "cell_type": "code",
   "execution_count": 98,
   "metadata": {},
   "outputs": [],
   "source": [
    "epoch = 10\n",
    "loss_fun = nn.NLLLoss()\n",
    "optimizer = optim.Adam(net.parameters())"
   ]
  },
  {
   "cell_type": "code",
   "execution_count": 103,
   "metadata": {},
   "outputs": [
    {
     "name": "stdout",
     "output_type": "stream",
     "text": [
      "Epoch 0 - Training loss: 0.3389 - Test loss: 0.4121\n",
      "Epoch 1 - Training loss: 0.1827 - Test loss: 0.3777\n",
      "Epoch 2 - Training loss: 0.1275 - Test loss: 0.3891\n",
      "Epoch 3 - Training loss: 0.0971 - Test loss: 0.4233\n",
      "Epoch 4 - Training loss: 0.0788 - Test loss: 0.4637\n",
      "Epoch 5 - Training loss: 0.0681 - Test loss: 0.5026\n",
      "Epoch 6 - Training loss: 0.0623 - Test loss: 0.5375\n",
      "Epoch 7 - Training loss: 0.0593 - Test loss: 0.5634\n",
      "Epoch 8 - Training loss: 0.0578 - Test loss: 0.5881\n",
      "Epoch 9 - Training loss: 0.0570 - Test loss: 0.6035\n"
     ]
    }
   ],
   "source": [
    "for e in range(epoch):\n",
    "    running_loss = 0\n",
    "    test_loss    = 0\n",
    "    best_loss    = 10\n",
    "    for data, labels in boucle_loader:\n",
    "        with autograd.detect_anomaly():\n",
    "            optimizer.zero_grad()\n",
    "            out  = net(data)\n",
    "            loss = loss_fun(out, labels)\n",
    "            loss.backward()\n",
    "            optimizer.step()\n",
    "            running_loss += loss.item()\n",
    "    else:\n",
    "        for data, labels in boucle_test_loader:\n",
    "            out  = net(data)\n",
    "            loss = loss_fun(out, labels)\n",
    "            test_loss += loss.item()\n",
    "        test_loss /= len(test_loader)\n",
    "        \n",
    "        if test_loss < best_loss:\n",
    "            best_model = deepcopy(net)\n",
    "            best_loss = test_loss\n",
    "        \n",
    "        print(\"Epoch {} - Training loss: {:.4f} - Test loss: {:.4f}\".format(e, running_loss/len(train_loader), test_loss))"
   ]
  },
  {
   "cell_type": "code",
   "execution_count": 105,
   "metadata": {},
   "outputs": [
    {
     "name": "stdout",
     "output_type": "stream",
     "text": [
      "0.7924321086261981\n"
     ]
    }
   ],
   "source": [
    "y_pred = torch.tensor([]).long()\n",
    "good = 0\n",
    "for img, labels in boucle_test_loader:\n",
    "    res = torch.exp(net(img))\n",
    "    predict = torch.sum(torch.eq(torch.argmax(res, dim=1), labels), dim = 0)\n",
    "    good += predict.item()\n",
    "good /= (len(test_loader)*32)\n",
    "print(good)"
   ]
  },
  {
   "cell_type": "code",
   "execution_count": 121,
   "metadata": {},
   "outputs": [],
   "source": [
    "y_pred = np.array([])\n",
    "y_true = np.array([])\n",
    "for img, labels in test_loader:\n",
    "    res    = torch.exp(net(img))\n",
    "    res    = torch.argmax(res, dim=1)\n",
    "    res    = res.detach().numpy()\n",
    "    labels = labels.detach().numpy()\n",
    "    y_pred = np.concatenate([y_pred, res])\n",
    "    y_true = np.concatenate([y_true, labels])"
   ]
  },
  {
   "cell_type": "code",
   "execution_count": 128,
   "metadata": {},
   "outputs": [],
   "source": [
    "matrix = confusion_matrix(y_true,\n",
    "                          y_pred,\n",
    "                          labels = [i for i in range(10)])"
   ]
  },
  {
   "cell_type": "code",
   "execution_count": 129,
   "metadata": {},
   "outputs": [
    {
     "data": {
      "text/plain": [
       "array([[   3,  977],\n",
       "       [1135,    0],\n",
       "       [1028,    4],\n",
       "       [1009,    1],\n",
       "       [ 978,    4],\n",
       "       [ 887,    5],\n",
       "       [  26,  932],\n",
       "       [1021,    7],\n",
       "       [ 944,   30],\n",
       "       [  41,  968]], dtype=int64)"
      ]
     },
     "execution_count": 129,
     "metadata": {},
     "output_type": "execute_result"
    }
   ],
   "source": [
    "matrix[:, :2]"
   ]
  },
  {
   "cell_type": "code",
   "execution_count": null,
   "metadata": {},
   "outputs": [],
   "source": []
  }
 ],
 "metadata": {
  "kernelspec": {
   "display_name": "Python 3",
   "language": "python",
   "name": "python3"
  },
  "language_info": {
   "codemirror_mode": {
    "name": "ipython",
    "version": 3
   },
   "file_extension": ".py",
   "mimetype": "text/x-python",
   "name": "python",
   "nbconvert_exporter": "python",
   "pygments_lexer": "ipython3",
   "version": "3.7.3"
  }
 },
 "nbformat": 4,
 "nbformat_minor": 4
}
