{
 "cells": [
  {
   "cell_type": "code",
   "execution_count": 1,
   "metadata": {},
   "outputs": [
    {
     "name": "stderr",
     "output_type": "stream",
     "text": [
      "Using TensorFlow backend.\n"
     ]
    }
   ],
   "source": [
    "import numpy as np\n",
    "import random\n",
    "import tensorflow as tf\n",
    "import matplotlib.pyplot as plt\n",
    "import keras.applications as app\n",
    "import keras.layers as kl\n",
    "import seaborn as sns\n",
    "import matplotlib.patheffects as PathEffects\n",
    "import cv2\n",
    "import os\n",
    "import mlflow\n",
    "import mlflow.keras\n",
    "\n",
    "from keras.models import Model, Sequential\n",
    "from keras.optimizers import Adagrad\n",
    "from keras import backend as K\n",
    "from keras.callbacks import ModelCheckpoint\n",
    "from time import time\n",
    "from sklearn.manifold import TSNE\n",
    "from mpl_toolkits import mplot3d\n",
    "from keras.callbacks import Callback"
   ]
  },
  {
   "cell_type": "code",
   "execution_count": 2,
   "metadata": {},
   "outputs": [],
   "source": [
    "mnist = tf.keras.datasets.mnist"
   ]
  },
  {
   "cell_type": "code",
   "execution_count": 3,
   "metadata": {},
   "outputs": [],
   "source": [
    "(x_train, y_train_),(x_test, y_test_) = mnist.load_data()\n",
    "x_train, x_test = x_train / 255.0, x_test / 255.0\n",
    "\n",
    "few_shot = random.choice(x_train[y_train_ == 8])\n",
    "few_shot = np.array(np.sum(y_train_ == 8)*[few_shot])\n",
    "\n",
    "x_train  = x_train[y_train_ != 8]\n",
    "y_train_ = y_train_[y_train_ != 8]\n",
    "\n",
    "x_train = np.concatenate([x_train, few_shot])\n",
    "y_train_ = np.concatenate([y_train_, np.sum(y_train_ == 8)*[8])])\n",
    "\n",
    "x_movie = x_train[:500]\n",
    "y_movie = y_train_[:500]\n",
    "\n",
    "x_train = np.reshape(x_train, (len(x_train), 28, 28, 1))\n",
    "x_test  = np.reshape(x_test, (len(x_test), 28, 28, 1))\n",
    "\n",
    "y_train2 = np.zeros((len(x_train), 10))\n",
    "for j, i in enumerate(y_train_):\n",
    "    y_train2[j, i] = 1\n",
    "    \n",
    "y_test2 = np.zeros((len(x_test), 10))\n",
    "for j, i in enumerate(y_test_):\n",
    "    y_test2[j, i] = 1"
   ]
  },
  {
   "cell_type": "code",
   "execution_count": 5,
   "metadata": {},
   "outputs": [
    {
     "data": {
      "text/plain": [
       "[4, 5]"
      ]
     },
     "execution_count": 5,
     "metadata": {},
     "output_type": "execute_result"
    }
   ],
   "source": [
    "[4] + [5]"
   ]
  },
  {
   "cell_type": "code",
   "execution_count": null,
   "metadata": {},
   "outputs": [],
   "source": [
    "def triplet_generation(x, y, sample = 500):\n",
    "    data = [[] for _ in range(10)]\n",
    "    triplets = []\n",
    "    for pair in zip(x, y):\n",
    "        data[pair[1]].append(pair[0])\n",
    "    for number in range(10):\n",
    "        for _ in range(sample):\n",
    "            negative = list(range(10))\n",
    "            negative.pop(number)\n",
    "            negative = random.choice(negative)\n",
    "            triplet = ([random.choice(data[number]), \n",
    "                       random.choice(data[number]), \n",
    "                       random.choice(data[negative])], \n",
    "                       number)\n",
    "            triplets.append(triplet)\n",
    "    return np.array(triplets)"
   ]
  }
 ],
 "metadata": {
  "kernelspec": {
   "display_name": "Python 3",
   "language": "python",
   "name": "python3"
  },
  "language_info": {
   "codemirror_mode": {
    "name": "ipython",
    "version": 3
   },
   "file_extension": ".py",
   "mimetype": "text/x-python",
   "name": "python",
   "nbconvert_exporter": "python",
   "pygments_lexer": "ipython3",
   "version": "3.7.3"
  }
 },
 "nbformat": 4,
 "nbformat_minor": 2
}
