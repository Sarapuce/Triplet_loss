{
 "cells": [
  {
   "cell_type": "code",
   "execution_count": 1,
   "metadata": {},
   "outputs": [
    {
     "name": "stderr",
     "output_type": "stream",
     "text": [
      "Using TensorFlow backend.\n"
     ]
    }
   ],
   "source": [
    "import numpy as np\n",
    "import random\n",
    "import tensorflow as tf\n",
    "import matplotlib.pyplot as plt\n",
    "import keras.applications as app\n",
    "import keras.layers as kl\n",
    "import seaborn as sns\n",
    "import matplotlib.patheffects as PathEffects\n",
    "import cv2\n",
    "import os\n",
    "from keras.models import Model, Sequential\n",
    "from keras.optimizers import Adagrad\n",
    "from keras import backend as K\n",
    "from keras.callbacks import ModelCheckpoint\n",
    "from time import time\n",
    "from sklearn.manifold import TSNE\n",
    "from mpl_toolkits import mplot3d\n",
    "from keras.callbacks import Callback"
   ]
  },
  {
   "cell_type": "code",
   "execution_count": 2,
   "metadata": {},
   "outputs": [],
   "source": [
    "mnist = tf.keras.datasets.mnist"
   ]
  },
  {
   "cell_type": "code",
   "execution_count": 3,
   "metadata": {},
   "outputs": [],
   "source": [
    "(x_train, y_train_),(x_test, y_test_) = mnist.load_data()\n",
    "x_train, x_test = x_train / 255.0, x_test / 255.0\n",
    "\n",
    "x_movie = x_train[:500]\n",
    "y_movie = y_train_[:500]\n",
    "\n",
    "x_train = np.reshape(x_train, (60000, 28, 28, 1))\n",
    "x_test  = np.reshape(x_test, (10000, 28, 28, 1))"
   ]
  },
  {
   "cell_type": "code",
   "execution_count": 4,
   "metadata": {},
   "outputs": [],
   "source": [
    "def triplet_generation(x, y, sample = 500):\n",
    "    data = [[] for _ in range(10)]\n",
    "    triplets = []\n",
    "    for pair in zip(x, y):\n",
    "        data[pair[1]].append(pair[0])\n",
    "    for number in range(10):\n",
    "        for _ in range(sample):\n",
    "            negative = list(range(10))\n",
    "            negative.pop(number)\n",
    "            negative = random.choice(negative)\n",
    "            triplet = ([random.choice(data[number]), \n",
    "                       random.choice(data[number]), \n",
    "                       random.choice(data[negative])], \n",
    "                       number)\n",
    "            triplets.append(triplet)\n",
    "    return np.array(triplets)"
   ]
  },
  {
   "cell_type": "code",
   "execution_count": 5,
   "metadata": {},
   "outputs": [],
   "source": [
    "def triplet_loss(y_true, y_pred, m = 0.1):\n",
    "    length = int((y_pred[0].shape[-1]))\n",
    "    \n",
    "    \n",
    "    anchor_vec   = y_pred[:, :int(length/3)]\n",
    "    positive_vec = y_pred[:, int(length/3):int(length/1.5)]\n",
    "    negative_vec = y_pred[:, int(length/1.5):length]\n",
    "    \n",
    "    bad  = K.sum(K.square(anchor_vec - positive_vec), axis = 1)\n",
    "    good = K.sum(K.square(anchor_vec - negative_vec), axis = 1)\n",
    "\n",
    "    loss = bad - good + m\n",
    "    return K.maximum(loss, 0.)"
   ]
  },
  {
   "cell_type": "code",
   "execution_count": 6,
   "metadata": {},
   "outputs": [],
   "source": [
    "def new_triplet_loss(y_true, y_pred, m = 3, beta = 3, epsilon = 1e-8):\n",
    "    length = int((y_pred[0].shape[-1]))\n",
    "    \n",
    "    anchor_vec   = y_pred[:, :int(length/3)]\n",
    "    positive_vec = y_pred[:, int(length/3):int(length/1.5)]\n",
    "    negative_vec = y_pred[:, int(length/1.5):length]\n",
    "    \n",
    "    bad  = K.sum(K.square(anchor_vec - positive_vec), axis = 1)\n",
    "    good = K.sum(K.square(anchor_vec - negative_vec), axis = 1)\n",
    "    \n",
    "    bad  = -tf.log(-tf.divide((bad), beta) + 1 + epsilon)\n",
    "    good = -tf.log(-tf.divide((m - good), beta) + 1 + epsilon)\n",
    "    \n",
    "    loss = bad + good\n",
    "    return loss\n"
   ]
  },
  {
   "cell_type": "code",
   "execution_count": 7,
   "metadata": {},
   "outputs": [],
   "source": [
    "anchor_input   = kl.Input((28, 28, 1), name = 'anchor_input')\n",
    "positive_input = kl.Input((28, 28, 1), name = 'positive_input')\n",
    "negative_input = kl.Input((28, 28, 1), name = 'negative_input')"
   ]
  },
  {
   "cell_type": "code",
   "execution_count": 8,
   "metadata": {},
   "outputs": [],
   "source": [
    "def base_model():\n",
    "    model = Sequential()\n",
    "    model.add(kl.Conv2D(32, 2, input_shape=(28, 28,1), activation='relu', padding='valid'))\n",
    "    model.add(kl.MaxPooling2D())\n",
    "    model.add(kl.Conv2D(64, 2, activation='relu', padding='valid'))\n",
    "    model.add(kl.MaxPooling2D())\n",
    "    model.add(kl.Flatten())\n",
    "    model.add(kl.Dense(256, activation = 'relu'))\n",
    "    model.add(kl.BatchNormalization())\n",
    "    model.add(kl.Dropout(0.5))\n",
    "    model.add(kl.Dense(3))\n",
    "    #model.add(kl.Lambda(lambda t: K.l2_normalize(1000*t, axis=1)))\n",
    "    \n",
    "    return model"
   ]
  },
  {
   "cell_type": "code",
   "execution_count": 9,
   "metadata": {},
   "outputs": [
    {
     "name": "stdout",
     "output_type": "stream",
     "text": [
      "WARNING:tensorflow:From C:\\Users\\Utilisateur\\.conda\\envs\\keelab\\lib\\site-packages\\tensorflow\\python\\framework\\op_def_library.py:263: colocate_with (from tensorflow.python.framework.ops) is deprecated and will be removed in a future version.\n",
      "Instructions for updating:\n",
      "Colocations handled automatically by placer.\n",
      "WARNING:tensorflow:From C:\\Users\\Utilisateur\\.conda\\envs\\keelab\\lib\\site-packages\\keras\\backend\\tensorflow_backend.py:3445: calling dropout (from tensorflow.python.ops.nn_ops) with keep_prob is deprecated and will be removed in a future version.\n",
      "Instructions for updating:\n",
      "Please use `rate` instead of `keep_prob`. Rate should be set to `rate = 1 - keep_prob`.\n"
     ]
    }
   ],
   "source": [
    "shared_network = base_model()"
   ]
  },
  {
   "cell_type": "code",
   "execution_count": 10,
   "metadata": {},
   "outputs": [],
   "source": [
    "anchor   = shared_network(anchor_input)\n",
    "positive = shared_network(positive_input)\n",
    "negative = shared_network(negative_input)\n",
    "\n",
    "merged = kl.concatenate([anchor, positive, negative], axis = 1)\n",
    "\n",
    "model = Model(inputs = [anchor_input, positive_input, negative_input], outputs = merged)"
   ]
  },
  {
   "cell_type": "code",
   "execution_count": 11,
   "metadata": {},
   "outputs": [],
   "source": [
    "opt = Adagrad()"
   ]
  },
  {
   "cell_type": "code",
   "execution_count": 12,
   "metadata": {},
   "outputs": [],
   "source": [
    "model.compile(optimizer = opt, loss = triplet_loss)"
   ]
  },
  {
   "cell_type": "code",
   "execution_count": 13,
   "metadata": {},
   "outputs": [],
   "source": [
    "data_train = triplet_generation(x_train, y_train_, 3500)"
   ]
  },
  {
   "cell_type": "code",
   "execution_count": 14,
   "metadata": {},
   "outputs": [],
   "source": [
    "data_test  = triplet_generation(x_test, y_test_, 200)"
   ]
  },
  {
   "cell_type": "code",
   "execution_count": 15,
   "metadata": {},
   "outputs": [],
   "source": [
    "anchor_train   = []\n",
    "positive_train = []\n",
    "negative_train = []\n",
    "y_train        = []\n",
    "np.random.shuffle(data_train)\n",
    "for data in data_train:\n",
    "    anchor_train.append(data[0][0])\n",
    "    positive_train.append(data[0][1])\n",
    "    negative_train.append(data[0][2])\n",
    "    y_train.append(data[1])"
   ]
  },
  {
   "cell_type": "code",
   "execution_count": 16,
   "metadata": {},
   "outputs": [],
   "source": [
    "anchor_test   = []\n",
    "positive_test = []\n",
    "negative_test = []\n",
    "y_test        = []\n",
    "np.random.shuffle(data_test)\n",
    "for data in data_test:\n",
    "    anchor_test.append(data[0][0])\n",
    "    positive_test.append(data[0][1])\n",
    "    negative_test.append(data[0][2])\n",
    "    y_test.append(data[1])"
   ]
  },
  {
   "cell_type": "code",
   "execution_count": 17,
   "metadata": {},
   "outputs": [],
   "source": [
    "class LiveAction(Callback):\n",
    "    def on_train_begin(self, logs={}):\n",
    "        self.counter = 0\n",
    "        \n",
    "    def on_batch_end(self, batch, logs={}):\n",
    "        self.counter += 1\n",
    "        if not self.counter % 70:\n",
    "            x = self.model.predict(3*[x_movie[:500].reshape(-1,28,28,1)])[:, :3]\n",
    "            palette = np.array(sns.color_palette(\"hls\", 10))\n",
    "            fig = plt.figure()\n",
    "            ax  = plt.axes(projection=\"3d\")\n",
    "            ax.scatter3D(x[:,0], x[:,1], x[:,2], lw=0, s=40,\n",
    "                                c=palette[np.array(y_movie[:500]).astype(np.int)]);\n",
    "            ax.set_xlim(-2,2)\n",
    "            ax.set_ylim(-2,2)\n",
    "            ax.set_zlim(-2,2)\n",
    "            fig.savefig('./movie/{}.png'.format(self.counter//70))\n",
    "            plt.close(fig)"
   ]
  },
  {
   "cell_type": "code",
   "execution_count": 18,
   "metadata": {},
   "outputs": [],
   "source": [
    "live_action = LiveAction()"
   ]
  },
  {
   "cell_type": "code",
   "execution_count": null,
   "metadata": {},
   "outputs": [
    {
     "name": "stdout",
     "output_type": "stream",
     "text": [
      "WARNING:tensorflow:From C:\\Users\\Utilisateur\\.conda\\envs\\keelab\\lib\\site-packages\\tensorflow\\python\\ops\\math_ops.py:3066: to_int32 (from tensorflow.python.ops.math_ops) is deprecated and will be removed in a future version.\n",
      "Instructions for updating:\n",
      "Use tf.cast instead.\n",
      "Train on 35000 samples, validate on 2000 samples\n",
      "Epoch 1/20\n",
      " 1536/35000 [>.............................] - ETA: 5:27 - loss: 3.1658"
     ]
    }
   ],
   "source": [
    "model.fit([anchor_train, positive_train, negative_train],\n",
    "          y               = y_train,\n",
    "          validation_data = ([anchor_test,positive_test,negative_test], y_test), \n",
    "          batch_size      = 128, \n",
    "          epochs          = 20, \n",
    "          callbacks       = [live_action]\n",
    "          ) "
   ]
  },
  {
   "cell_type": "code",
   "execution_count": null,
   "metadata": {},
   "outputs": [],
   "source": [
    "font                   = cv2.FONT_HERSHEY_SIMPLEX\n",
    "coordOfText            = (10,20)\n",
    "fontScale              = 0.5\n",
    "fontColor              = (0,0,0)\n",
    "lineType               = 2\n",
    "frame_name             = os.listdir('./movie/')\n",
    "number_frame           = max([int(name[:-4]) for name in frame_name if name.endswith('.png')])\n",
    "image_array            = []\n"
   ]
  },
  {
   "cell_type": "code",
   "execution_count": 56,
   "metadata": {},
   "outputs": [],
   "source": [
    "for i in range(1, number_frame):\n",
    "    image = cv2.imread('./movie/{}.png'.format(i))\n",
    "    image = cv2.putText(image, 'Batch {}'.format(i*70), coordOfText, font, fontScale, fontColor, lineType)\n",
    "    image_array.append(image)\n",
    "    \n",
    "size = (image_array[0].shape[1], image_array[0].shape[0])\n",
    "\n"
   ]
  },
  {
   "cell_type": "code",
   "execution_count": 57,
   "metadata": {},
   "outputs": [],
   "source": [
    "fourcc = cv2.VideoWriter_fourcc(*'MP42')\n",
    "video = cv2.VideoWriter('./noise.avi', fourcc, float(10), size)\n",
    "for frame in image_array:\n",
    "    video.write(frame)"
   ]
  },
  {
   "cell_type": "code",
   "execution_count": 58,
   "metadata": {},
   "outputs": [],
   "source": [
    "video.release()"
   ]
  },
  {
   "cell_type": "code",
   "execution_count": 51,
   "metadata": {},
   "outputs": [],
   "source": [
    "model.save_weights(\"model{}.h5\".format(time()))"
   ]
  },
  {
   "cell_type": "code",
   "execution_count": 20,
   "metadata": {},
   "outputs": [],
   "source": [
    "trained_model = Model(inputs = anchor_input, outputs = anchor)"
   ]
  },
  {
   "cell_type": "code",
   "execution_count": 38,
   "metadata": {},
   "outputs": [],
   "source": [
    "tsne = TSNE(3)\n",
    "indices = np.arange(10000)\n",
    "np.random.shuffle(indices)\n",
    "indices = indices[:600]\n",
    "X_train_trm = trained_model.predict(x_train[indices].reshape(-1,28,28,1))\n",
    "X_test_trm = trained_model.predict(x_test[indices].reshape(-1,28,28,1))\n",
    "train_tsne_embeds = tsne.fit_transform(X_train_trm)\n",
    "eval_tsne_embeds = tsne.fit_transform(X_test_trm)"
   ]
  },
  {
   "cell_type": "code",
   "execution_count": 42,
   "metadata": {},
   "outputs": [],
   "source": [
    "x = train_tsne_embeds"
   ]
  },
  {
   "cell_type": "code",
   "execution_count": 47,
   "metadata": {},
   "outputs": [
    {
     "data": {
      "image/png": "[encoded data removed]",
      "text/plain": [
       "<Figure size 432x288 with 1 Axes>"
      ]
     },
     "metadata": {
      "needs_background": "light"
     },
     "output_type": "display_data"
    }
   ],
   "source": [
    "fig = plt.figure()\n",
    "ax  = plt.axes(projection=\"3d\")\n",
    "ax.scatter3D(x[:,0], x[:,1], x[:,2], lw=0, s=40,\n",
    "                    c=palette[np.array(y_train[indices]).astype(np.int)]);\n",
    "ax.set_xlim(-12,12)\n",
    "ax.set_ylim(-12,12)\n",
    "ax.set_zlim(-12,12)\n",
    "fig.savefig('')"
   ]
  },
  {
   "cell_type": "code",
   "execution_count": 28,
   "metadata": {},
   "outputs": [],
   "source": [
    "class LiveAction(Callback):\n",
    "    def on_train_begin(self, logs={}):\n",
    "        self.counter = 0\n",
    "        \n",
    "    def on_batch_end(self, batch, logs={}):\n",
    "        self.counter += 1\n",
    "        if not self.counter % 70:\n",
    "            x = self.model.predict(3*[x_movie.reshape(-1,28,28,1)])[:, :4]\n",
    "            tsne = TSNE(3)\n",
    "            x = tsne.fit_transform(x)\n",
    "            palette = np.array(sns.color_palette(\"hls\", 10))\n",
    "            fig = plt.figure(figsize = (8, 8))\n",
    "            ax  = plt.axes(projection=\"3d\")\n",
    "            ax.scatter3D(x[:,0], x[:,1], x[:,2], lw = 0, s = 40, c = palette[np.array(y_movie).astype(np.int)]);\n",
    "            ax.set_xlim(-100,100)\n",
    "            ax.set_ylim(-100,100)\n",
    "            ax.set_zlim(-100,100)\n",
    "            fig.savefig('./movie/{}.png'.format(self.counter//70))\n",
    "            plt.close(fig)"
   ]
  },
  {
   "cell_type": "code",
   "execution_count": 33,
   "metadata": {},
   "outputs": [
    {
     "ename": "SyntaxError",
     "evalue": "invalid syntax (<ipython-input-33-4839f42c26c8>, line 1)",
     "output_type": "error",
     "traceback": [
      "\u001b[1;36m  File \u001b[1;32m\"<ipython-input-33-4839f42c26c8>\"\u001b[1;36m, line \u001b[1;32m1\u001b[0m\n\u001b[1;33m    print(plt.\"__version__\")\u001b[0m\n\u001b[1;37m                          ^\u001b[0m\n\u001b[1;31mSyntaxError\u001b[0m\u001b[1;31m:\u001b[0m invalid syntax\n"
     ]
    }
   ],
   "source": []
  },
  {
   "cell_type": "code",
   "execution_count": 25,
   "metadata": {},
   "outputs": [
    {
     "data": {
      "text/plain": [
       "9"
      ]
     },
     "execution_count": 25,
     "metadata": {},
     "output_type": "execute_result"
    }
   ],
   "source": [
    "y_train[2]"
   ]
  },
  {
   "cell_type": "code",
   "execution_count": null,
   "metadata": {},
   "outputs": [],
   "source": []
  },
  {
   "cell_type": "code",
   "execution_count": 39,
   "metadata": {},
   "outputs": [
    {
     "data": {
      "text/plain": [
       "<matplotlib.image.AxesImage at 0x27654e9fcc0>"
      ]
     },
     "execution_count": 39,
     "metadata": {},
     "output_type": "execute_result"
    },
    {
     "data": {
      "image/png": "[encoded data removed]",
      "text/plain": [
       "<Figure size 432x288 with 1 Axes>"
      ]
     },
     "metadata": {
      "needs_background": "light"
     },
     "output_type": "display_data"
    }
   ],
   "source": [
    "plt.imshow(np.reshape(negative_test[10], (28, 28)))"
   ]
  },
  {
   "cell_type": "code",
   "execution_count": 122,
   "metadata": {},
   "outputs": [],
   "source": [
    "random.shuffle(test)"
   ]
  },
  {
   "cell_type": "code",
   "execution_count": 123,
   "metadata": {},
   "outputs": [
    {
     "data": {
      "text/plain": [
       "[3, 5, 2, 4, 6, 1]"
      ]
     },
     "execution_count": 123,
     "metadata": {},
     "output_type": "execute_result"
    }
   ],
   "source": [
    "test"
   ]
  },
  {
   "cell_type": "code",
   "execution_count": null,
   "metadata": {},
   "outputs": [],
   "source": []
  },
  {
   "cell_type": "code",
   "execution_count": 25,
   "metadata": {},
   "outputs": [
    {
     "ename": "NameError",
     "evalue": "name 'data_gen' is not defined",
     "output_type": "error",
     "traceback": [
      "\u001b[1;31m---------------------------------------------------------------------------\u001b[0m",
      "\u001b[1;31mNameError\u001b[0m                                 Traceback (most recent call last)",
      "\u001b[1;32m<ipython-input-25-99bfb1cfbea6>\u001b[0m in \u001b[0;36m<module>\u001b[1;34m\u001b[0m\n\u001b[1;32m----> 1\u001b[1;33m \u001b[0mtrain_gen\u001b[0m \u001b[1;33m=\u001b[0m \u001b[0mdata_gen\u001b[0m\u001b[1;33m.\u001b[0m\u001b[0mflow\u001b[0m\u001b[1;33m(\u001b[0m\u001b[0mx_train\u001b[0m\u001b[1;33m,\u001b[0m \u001b[0my_train\u001b[0m\u001b[1;33m,\u001b[0m \u001b[0mshuffle\u001b[0m \u001b[1;33m=\u001b[0m \u001b[1;32mTrue\u001b[0m\u001b[1;33m)\u001b[0m\u001b[1;33m\u001b[0m\u001b[1;33m\u001b[0m\u001b[0m\n\u001b[0m\u001b[0;32m      2\u001b[0m \u001b[0mtest_gen\u001b[0m  \u001b[1;33m=\u001b[0m \u001b[0mdata_gen\u001b[0m\u001b[1;33m.\u001b[0m\u001b[0mflow\u001b[0m\u001b[1;33m(\u001b[0m\u001b[0mx_test\u001b[0m\u001b[1;33m,\u001b[0m \u001b[0my_test\u001b[0m\u001b[1;33m)\u001b[0m\u001b[1;33m\u001b[0m\u001b[1;33m\u001b[0m\u001b[0m\n",
      "\u001b[1;31mNameError\u001b[0m: name 'data_gen' is not defined"
     ]
    }
   ],
   "source": [
    "train_gen = data_gen.flow(x_train, y_train, shuffle = True)\n",
    "test_gen  = data_gen.flow(x_test, y_test)"
   ]
  },
  {
   "cell_type": "code",
   "execution_count": null,
   "metadata": {},
   "outputs": [],
   "source": []
  },
  {
   "cell_type": "code",
   "execution_count": 30,
   "metadata": {},
   "outputs": [],
   "source": [
    "test = triplet_generation(x_train, y_train)"
   ]
  },
  {
   "cell_type": "code",
   "execution_count": 32,
   "metadata": {},
   "outputs": [
    {
     "ename": "ValueError",
     "evalue": "cannot reshape array of size 1 into shape (28,28)",
     "output_type": "error",
     "traceback": [
      "\u001b[1;31m---------------------------------------------------------------------------\u001b[0m",
      "\u001b[1;31mValueError\u001b[0m                                Traceback (most recent call last)",
      "\u001b[1;32m<ipython-input-32-ba5f37475636>\u001b[0m in \u001b[0;36m<module>\u001b[1;34m\u001b[0m\n\u001b[1;32m----> 1\u001b[1;33m \u001b[0mplt\u001b[0m\u001b[1;33m.\u001b[0m\u001b[0mimshow\u001b[0m\u001b[1;33m(\u001b[0m\u001b[0mnp\u001b[0m\u001b[1;33m.\u001b[0m\u001b[0mreshape\u001b[0m\u001b[1;33m(\u001b[0m\u001b[1;36m255\u001b[0m\u001b[1;33m*\u001b[0m\u001b[0manchor_test\u001b[0m\u001b[1;33m[\u001b[0m\u001b[1;36m1500\u001b[0m\u001b[1;33m]\u001b[0m\u001b[1;33m,\u001b[0m \u001b[1;33m(\u001b[0m\u001b[1;36m28\u001b[0m\u001b[1;33m,\u001b[0m \u001b[1;36m28\u001b[0m\u001b[1;33m)\u001b[0m\u001b[1;33m)\u001b[0m\u001b[1;33m)\u001b[0m\u001b[1;33m\u001b[0m\u001b[1;33m\u001b[0m\u001b[0m\n\u001b[0m",
      "\u001b[1;32m~\\.conda\\envs\\keelab\\lib\\site-packages\\numpy\\core\\fromnumeric.py\u001b[0m in \u001b[0;36mreshape\u001b[1;34m(a, newshape, order)\u001b[0m\n\u001b[0;32m    290\u001b[0m            [5, 6]])\n\u001b[0;32m    291\u001b[0m     \"\"\"\n\u001b[1;32m--> 292\u001b[1;33m     \u001b[1;32mreturn\u001b[0m \u001b[0m_wrapfunc\u001b[0m\u001b[1;33m(\u001b[0m\u001b[0ma\u001b[0m\u001b[1;33m,\u001b[0m \u001b[1;34m'reshape'\u001b[0m\u001b[1;33m,\u001b[0m \u001b[0mnewshape\u001b[0m\u001b[1;33m,\u001b[0m \u001b[0morder\u001b[0m\u001b[1;33m=\u001b[0m\u001b[0morder\u001b[0m\u001b[1;33m)\u001b[0m\u001b[1;33m\u001b[0m\u001b[1;33m\u001b[0m\u001b[0m\n\u001b[0m\u001b[0;32m    293\u001b[0m \u001b[1;33m\u001b[0m\u001b[0m\n\u001b[0;32m    294\u001b[0m \u001b[1;33m\u001b[0m\u001b[0m\n",
      "\u001b[1;32m~\\.conda\\envs\\keelab\\lib\\site-packages\\numpy\\core\\fromnumeric.py\u001b[0m in \u001b[0;36m_wrapfunc\u001b[1;34m(obj, method, *args, **kwds)\u001b[0m\n\u001b[0;32m     54\u001b[0m \u001b[1;32mdef\u001b[0m \u001b[0m_wrapfunc\u001b[0m\u001b[1;33m(\u001b[0m\u001b[0mobj\u001b[0m\u001b[1;33m,\u001b[0m \u001b[0mmethod\u001b[0m\u001b[1;33m,\u001b[0m \u001b[1;33m*\u001b[0m\u001b[0margs\u001b[0m\u001b[1;33m,\u001b[0m \u001b[1;33m**\u001b[0m\u001b[0mkwds\u001b[0m\u001b[1;33m)\u001b[0m\u001b[1;33m:\u001b[0m\u001b[1;33m\u001b[0m\u001b[1;33m\u001b[0m\u001b[0m\n\u001b[0;32m     55\u001b[0m     \u001b[1;32mtry\u001b[0m\u001b[1;33m:\u001b[0m\u001b[1;33m\u001b[0m\u001b[1;33m\u001b[0m\u001b[0m\n\u001b[1;32m---> 56\u001b[1;33m         \u001b[1;32mreturn\u001b[0m \u001b[0mgetattr\u001b[0m\u001b[1;33m(\u001b[0m\u001b[0mobj\u001b[0m\u001b[1;33m,\u001b[0m \u001b[0mmethod\u001b[0m\u001b[1;33m)\u001b[0m\u001b[1;33m(\u001b[0m\u001b[1;33m*\u001b[0m\u001b[0margs\u001b[0m\u001b[1;33m,\u001b[0m \u001b[1;33m**\u001b[0m\u001b[0mkwds\u001b[0m\u001b[1;33m)\u001b[0m\u001b[1;33m\u001b[0m\u001b[1;33m\u001b[0m\u001b[0m\n\u001b[0m\u001b[0;32m     57\u001b[0m \u001b[1;33m\u001b[0m\u001b[0m\n\u001b[0;32m     58\u001b[0m     \u001b[1;31m# An AttributeError occurs if the object does not have\u001b[0m\u001b[1;33m\u001b[0m\u001b[1;33m\u001b[0m\u001b[1;33m\u001b[0m\u001b[0m\n",
      "\u001b[1;31mValueError\u001b[0m: cannot reshape array of size 1 into shape (28,28)"
     ]
    }
   ],
   "source": [
    "plt.imshow(np.reshape(255*anchor_test[1500], (28, 28)))"
   ]
  },
  {
   "cell_type": "code",
   "execution_count": 21,
   "metadata": {},
   "outputs": [],
   "source": [
    "df = list(range(10))"
   ]
  },
  {
   "cell_type": "code",
   "execution_count": 44,
   "metadata": {},
   "outputs": [
    {
     "data": {
      "text/plain": [
       "5000"
      ]
     },
     "execution_count": 44,
     "metadata": {},
     "output_type": "execute_result"
    }
   ],
   "source": [
    "len(test)"
   ]
  },
  {
   "cell_type": "code",
   "execution_count": 25,
   "metadata": {},
   "outputs": [
    {
     "data": {
      "text/plain": [
       "(60000, 28, 28, 1)"
      ]
     },
     "execution_count": 25,
     "metadata": {},
     "output_type": "execute_result"
    }
   ],
   "source": [
    "x_train.shape"
   ]
  },
  {
   "cell_type": "code",
   "execution_count": null,
   "metadata": {},
   "outputs": [],
   "source": []
  }
 ],
 "metadata": {
  "kernelspec": {
   "display_name": "Python 3",
   "language": "python",
   "name": "python3"
  },
  "language_info": {
   "codemirror_mode": {
    "name": "ipython",
    "version": 3
   },
   "file_extension": ".py",
   "mimetype": "text/x-python",
   "name": "python",
   "nbconvert_exporter": "python",
   "pygments_lexer": "ipython3",
   "version": "3.7.3"
  }
 },
 "nbformat": 4,
 "nbformat_minor": 2
}
